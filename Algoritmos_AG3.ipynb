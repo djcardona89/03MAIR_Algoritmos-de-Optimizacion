{
  "nbformat": 4,
  "nbformat_minor": 0,
  "metadata": {
    "colab": {
      "name": "Algoritmos - AG3.ipynb",
      "provenance": [],
      "authorship_tag": "ABX9TyP0ChJMl0bEcMumw2b9AGxB",
      "include_colab_link": true
    },
    "kernelspec": {
      "name": "python3",
      "display_name": "Python 3"
    }
  },
  "cells": [
    {
      "cell_type": "markdown",
      "metadata": {
        "id": "view-in-github",
        "colab_type": "text"
      },
      "source": [
        "<a href=\"https://colab.research.google.com/github/djcardona89/03MAIR_Algoritmos-de-Optimizacion/blob/main/Algoritmos_AG3.ipynb\" target=\"_parent\"><img src=\"https://colab.research.google.com/assets/colab-badge.svg\" alt=\"Open In Colab\"/></a>"
      ]
    },
    {
      "cell_type": "markdown",
      "metadata": {
        "id": "YW5ZnEqETq8d"
      },
      "source": [
        "#Algoritmos - Actividad Guiada 3 \r\n",
        "Nombre: David Cardona <br>\r\n",
        "URL: https://colab.research.google.com/drive/1KDaSaa1zOfXBT8NDejLxDqDp2-6OtYf3?usp=sharing<br>\r\n",
        "http:https://github.com/djcardona89/03MAIR_Algoritmos-de-Optimizacion/blob/main/Algoritmos_AG3.ipynb"
      ]
    },
    {
      "cell_type": "code",
      "metadata": {
        "colab": {
          "base_uri": "https://localhost:8080/"
        },
        "id": "NldE2R-aTX5z",
        "outputId": "cf6b0c04-ffcc-4dbe-e53f-31253b7fc282"
      },
      "source": [
        "!pip install requests    #Hacer llamadas http a paginas de la red\r\n",
        "!pip install tsplib95    #Modulo para las instancias del problema del TSP"
      ],
      "execution_count": null,
      "outputs": [
        {
          "output_type": "stream",
          "text": [
            "Requirement already satisfied: requests in /usr/local/lib/python3.6/dist-packages (2.23.0)\n",
            "Requirement already satisfied: chardet<4,>=3.0.2 in /usr/local/lib/python3.6/dist-packages (from requests) (3.0.4)\n",
            "Requirement already satisfied: idna<3,>=2.5 in /usr/local/lib/python3.6/dist-packages (from requests) (2.10)\n",
            "Requirement already satisfied: certifi>=2017.4.17 in /usr/local/lib/python3.6/dist-packages (from requests) (2020.12.5)\n",
            "Requirement already satisfied: urllib3!=1.25.0,!=1.25.1,<1.26,>=1.21.1 in /usr/local/lib/python3.6/dist-packages (from requests) (1.24.3)\n",
            "Collecting tsplib95\n",
            "  Downloading https://files.pythonhosted.org/packages/a0/2b/b1932d3674758ec5f49afa72d4519334a5ac2aac4d96cfd416eb872a1959/tsplib95-0.7.1-py2.py3-none-any.whl\n",
            "Requirement already satisfied: Click>=6.0 in /usr/local/lib/python3.6/dist-packages (from tsplib95) (7.1.2)\n",
            "Requirement already satisfied: networkx~=2.1 in /usr/local/lib/python3.6/dist-packages (from tsplib95) (2.5)\n",
            "Requirement already satisfied: tabulate~=0.8.7 in /usr/local/lib/python3.6/dist-packages (from tsplib95) (0.8.7)\n",
            "Collecting Deprecated~=1.2.9\n",
            "  Downloading https://files.pythonhosted.org/packages/d4/56/7d4774533d2c119e1873993d34d313c9c9efc88c5e4ab7e33bdf915ad98c/Deprecated-1.2.11-py2.py3-none-any.whl\n",
            "Requirement already satisfied: decorator>=4.3.0 in /usr/local/lib/python3.6/dist-packages (from networkx~=2.1->tsplib95) (4.4.2)\n",
            "Requirement already satisfied: wrapt<2,>=1.10 in /usr/local/lib/python3.6/dist-packages (from Deprecated~=1.2.9->tsplib95) (1.12.1)\n",
            "Installing collected packages: Deprecated, tsplib95\n",
            "Successfully installed Deprecated-1.2.11 tsplib95-0.7.1\n"
          ],
          "name": "stdout"
        }
      ]
    },
    {
      "cell_type": "code",
      "metadata": {
        "colab": {
          "base_uri": "https://localhost:8080/"
        },
        "id": "0zt_ipE9UwEq",
        "outputId": "0ddb9d58-40b4-4386-a8c0-ba4c718fe286"
      },
      "source": [
        "import math\r\n",
        "import tsplib95       #Modulo para las instancias del problema del TSP\r\n",
        "import random         #Modulo para generar números aleatorios\r\n",
        "from math import e    #constante e\r\n",
        "import copy           #Para copia profunda de estructuras de datos(en python la asignación es por referencia)\r\n",
        "\r\n",
        "import urllib.request #Hacer llamadas http a paginas de la red\r\n",
        "\r\n",
        "#http://elib.zib.de/pub/mp-testdata/tsp/tsplib/\r\n",
        "#Documentacion : \r\n",
        "  # http://comopt.ifi.uni-heidelberg.de/software/TSPLIB95/tsp95.pdf\r\n",
        "  # https://tsplib95.readthedocs.io/en/stable/pages/usage.html\r\n",
        "  # https://tsplib95.readthedocs.io/en/v0.6.1/modules.html\r\n",
        "  # https://pypi.org/project/tsplib95/\r\n",
        "\r\n",
        "#Descargamos el fichero de datos(Matriz de distancias)\r\n",
        "file = \"swiss42.tsp\" ; \r\n",
        "urllib.request.urlretrieve(\"http://elib.zib.de/pub/mp-testdata/tsp/tsplib/tsp/swiss42.tsp\", file) \r\n",
        "\r\n",
        "#Coordendas 51-city problem (Christofides/Eilon)\r\n",
        "#file = \"eil51.tsp\" ; urllib.request.urlretrieve(\"http://elib.zib.de/pub/mp-testdata/tsp/tsplib/tsp/eil51.tsp\", file)\r\n",
        "\r\n",
        "#Coordenadas - 48 capitals of the US (Padberg/Rinaldi)\r\n",
        "#file = \"att48.tsp\" ; urllib.request.urlretrieve(\"http://elib.zib.de/pub/mp-testdata/tsp/tsplib/tsp/att48.tsp\", file)"
      ],
      "execution_count": null,
      "outputs": [
        {
          "output_type": "execute_result",
          "data": {
            "text/plain": [
              "('swiss42.tsp', <http.client.HTTPMessage at 0x7fdedc3d2b38>)"
            ]
          },
          "metadata": {
            "tags": []
          },
          "execution_count": 24
        }
      ]
    },
    {
      "cell_type": "code",
      "metadata": {
        "id": "ipy_tDxvVJ24"
      },
      "source": [
        "#Modulos extras, no esenciales\r\n",
        "import numpy as np\r\n",
        "import matplotlib.pyplot as plt\r\n",
        "import imageio                    #Para construir las imagenes con gif\r\n",
        "from google.colab import files    #Para descargar ficheros generados con google colab\r\n",
        "\r\n",
        "from tempfile import mkstemp      #Para genera carpetas y ficheros temporales\r\n",
        "#import tempfile"
      ],
      "execution_count": null,
      "outputs": []
    },
    {
      "cell_type": "code",
      "metadata": {
        "id": "r_qQ-tetVVHT"
      },
      "source": [
        "#Carga de datos y generación de objeto problem\r\n",
        "\r\n",
        "problem = tsplib95.load(file)\r\n",
        "\r\n",
        "#Nodos\r\n",
        "Nodos = list(problem.get_nodes())\r\n",
        "\r\n",
        "#Aristas\r\n",
        "Aristas = list(problem.get_edges())"
      ],
      "execution_count": null,
      "outputs": []
    },
    {
      "cell_type": "code",
      "metadata": {
        "colab": {
          "base_uri": "https://localhost:8080/"
        },
        "id": "yX10PHusVZQM",
        "outputId": "6ebfcbe1-7323-44fb-e3ec-6980427ef62f"
      },
      "source": [
        "#Probamos algunas funciones del objeto problem\r\n",
        "\r\n",
        "#Distancia entre nodos\r\n",
        "problem.get_weight(0, 1)\r\n",
        "\r\n",
        "#Todas las funciones\r\n",
        "#Documentación: https://tsplib95.readthedocs.io/en/v0.6.1/modules.html\r\n",
        "#dir(problem)"
      ],
      "execution_count": null,
      "outputs": [
        {
          "output_type": "execute_result",
          "data": {
            "text/plain": [
              "15"
            ]
          },
          "metadata": {
            "tags": []
          },
          "execution_count": 5
        }
      ]
    },
    {
      "cell_type": "code",
      "metadata": {
        "id": "P8qscU6vVhUA"
      },
      "source": [
        "#Funcionas basicas      \r\n",
        "     \r\n",
        "#Se genera una solucion aleatoria con comienzo en en el nodo 0\r\n",
        "def crear_solucion(Nodos): \r\n",
        "  solucion = [Nodos[0]]\r\n",
        "  for n in Nodos[1:]:\r\n",
        "    solucion = solucion + [random.choice(list(set(Nodos) - set({Nodos[0]}) - set(solucion)))]\r\n",
        "  return solucion \r\n",
        "\r\n",
        "#Devuelve la distancia entre dos nodos\r\n",
        "def distancia(a,b, problem):\r\n",
        "  return problem.get_weight(a,b)\r\n",
        "\r\n",
        "#Devuelve la distancia total de una trayectoria/solucion\r\n",
        "def distancia_total(solucion, problem):\r\n",
        "  distancia_total = 0\r\n",
        "  for i in range(len(solucion)-1):\r\n",
        "    distancia_total += distancia(solucion[i] ,solucion[i+1] ,  problem)\r\n",
        "  return distancia_total + distancia(solucion[len(solucion)-1] ,solucion[0], problem)"
      ],
      "execution_count": null,
      "outputs": []
    },
    {
      "cell_type": "code",
      "metadata": {
        "colab": {
          "base_uri": "https://localhost:8080/"
        },
        "id": "MxmLqPoDVo0g",
        "outputId": "e935ea67-940c-4873-80c7-7ad32af4400b"
      },
      "source": [
        "def busqueda_aleatoria(problem, N):\r\n",
        "  \r\n",
        "  Nodos = list(problem.get_nodes())\r\n",
        "  \r\n",
        "  mejor_solucion = []\r\n",
        "  mejor_distancia = 10e100                          #Inicializamos con un valor alto\r\n",
        "  \r\n",
        "  for i in range(N):                                #Criterio de parada: repetir N veces pero podemos incluir otros\r\n",
        "    solucion = crear_solucion(Nodos)                #Genera una solucion aleatoria\r\n",
        "    distancia = distancia_total(solucion, problem)  #Calcula el valor objetivo(distancia total)\r\n",
        "    \r\n",
        "    if distancia < mejor_distancia:                 #Compara con la mejor obtenida hasta ahora\r\n",
        "      mejor_solucion = solucion\r\n",
        "      mejor_distancia = distancia\r\n",
        "      \r\n",
        "      \r\n",
        "  print(\"Mejor solución:\" , mejor_solucion) \r\n",
        "  print(\"Distancia     :\" , mejor_distancia) \r\n",
        "  return mejor_solucion  \r\n",
        "\r\n",
        "    \r\n",
        "    \r\n",
        "solucion = busqueda_aleatoria(problem, 5000)"
      ],
      "execution_count": null,
      "outputs": [
        {
          "output_type": "stream",
          "text": [
            "Mejor solución: [0, 3, 19, 37, 1, 35, 25, 10, 9, 6, 17, 14, 24, 34, 38, 23, 41, 22, 30, 2, 18, 39, 40, 21, 8, 31, 20, 29, 32, 28, 5, 13, 12, 11, 36, 26, 4, 7, 16, 27, 15, 33]\n",
            "Distancia     : 3831\n"
          ],
          "name": "stdout"
        }
      ]
    },
    {
      "cell_type": "code",
      "metadata": {
        "colab": {
          "base_uri": "https://localhost:8080/"
        },
        "id": "GHagY1vdV2Jr",
        "outputId": "34b68e1b-fb53-4825-e521-cd952b62c9f8"
      },
      "source": [
        "def genera_vecina(solucion):\r\n",
        "  #Generador de soluciones vecinas: 2-opt (intercambiar 2 nodos) Si hay N nodos se generan (N-1)x(N-2)/2 soluciones\r\n",
        "  #print(solucion)\r\n",
        "  mejor_solucion = []\r\n",
        "  mejor_distancia = 10e100\r\n",
        "  for i in range(1,len(solucion)-1):          #Recorremos todos los nodos en bucle doble para evaluar todos los intercambios 2-opt\r\n",
        "    for j in range(i+1, len(solucion)):\r\n",
        "      \r\n",
        "      #Se genera una nueva solución intercambiando los dos nodos i,j:\r\n",
        "      #  (usamos el operador + que para listas en python las concatena) : ej.: [1,2] + [3] = [1,2,3]\r\n",
        "      vecina = solucion[:i] + [solucion[j]] + solucion[i+1:j] + [solucion[i]] + solucion[j+1:]  \r\n",
        "\r\n",
        "      #Se evalua la nueva solución ...\r\n",
        "      distancia_vecina = distancia_total(vecina, problem)         \r\n",
        "\r\n",
        "      #... para guardarla si mejora las anteriores\r\n",
        "      if distancia_vecina <= mejor_distancia:\r\n",
        "        mejor_distancia = distancia_vecina\r\n",
        "        mejor_solucion = vecina\r\n",
        "  return mejor_solucion\r\n",
        "\r\n",
        "\r\n",
        "#solucion = [0, 11, 41, 28, 30, 7, 17, 16, 15, 18, 4, 26, 36, 34, 1, 32, 27, 10, 23, 25, 29, 20, 3, 6, 39, 21, 24, 22, 8, 19, 35, 5, 31, 33, 40, 9, 12, 2, 38, 14, 13, 37]\r\n",
        "print(\"Distancia Solucion Incial:\" , distancia_total(solucion, problem))\r\n",
        " \r\n",
        "\r\n",
        "nueva_solucion = genera_vecina(solucion)\r\n",
        "print(\"Distancia Solucion Local:\", distancia_total(nueva_solucion, problem))"
      ],
      "execution_count": null,
      "outputs": [
        {
          "output_type": "stream",
          "text": [
            "Distancia Solucion Incial: 3691\n",
            "Distancia Solucion Local: 3449\n"
          ],
          "name": "stdout"
        }
      ]
    },
    {
      "cell_type": "code",
      "metadata": {
        "colab": {
          "base_uri": "https://localhost:8080/"
        },
        "id": "RI23hvmFWBsl",
        "outputId": "7cb82983-bada-4ef5-b965-3fc9229661eb"
      },
      "source": [
        "#Busqueda Local:\r\n",
        "#  - Sobre el operador de vecindad 2-opt(funcion genera_vecina)\r\n",
        "#  - Sin criterio de parada, se para cuando no es posible mejorar.\r\n",
        "def busqueda_local(problem):\r\n",
        "  mejor_solucion = []\r\n",
        "  \r\n",
        "  #Generar una solucion inicial de referencia(aleatoria)\r\n",
        "  solucion_referencia = crear_solucion(Nodos)\r\n",
        "  mejor_distancia = distancia_total(solucion_referencia, problem)\r\n",
        "\r\n",
        "  iteracion=0   #Un contador para saber las iteraciones que hacemos\r\n",
        "  while(1):\r\n",
        "    iteracion +=1     #Incrementamos el contador\r\n",
        "    #print('#',iteracion)\r\n",
        "\r\n",
        "    #Obtenemos la mejor vecina ...\r\n",
        "    vecina = genera_vecina(solucion_referencia)\r\n",
        "    #... y la evaluamos para ver si mejoramos respecto a lo encontrado hasta el momento\r\n",
        "    distancia_vecina = distancia_total(vecina, problem)\r\n",
        " \r\n",
        "    #Si no mejoramos hay que terminas. Hemos llegado a un minimo local(según nuestro operador de vencindad)\r\n",
        "    if distancia_vecina < mejor_distancia:\r\n",
        "      mejor_solucion = copy.deepcopy(vecina)   #Con copia profunda. Las copias en python son por referencia \r\n",
        "      mejor_distancia = distancia_vecina\r\n",
        "    else:\r\n",
        "      print(\"En la iteracion \", iteracion, \", la mejor solución encontrada es:\" , mejor_solucion) \r\n",
        "      print(\"Distancia     :\" , mejor_distancia) \r\n",
        "      return mejor_solucion\r\n",
        "      \r\n",
        "    solucion_referencia = vecina\r\n",
        " \r\n",
        " \r\n",
        "sol = busqueda_local(problem )"
      ],
      "execution_count": null,
      "outputs": [
        {
          "output_type": "stream",
          "text": [
            "En la iteracion  28 , la mejor solución encontrada es: [0, 32, 20, 34, 30, 8, 25, 10, 4, 3, 27, 2, 28, 29, 18, 26, 5, 6, 17, 31, 36, 35, 33, 38, 22, 39, 24, 40, 21, 9, 23, 41, 11, 12, 13, 19, 14, 16, 15, 37, 7, 1]\n",
            "Distancia     : 1643\n"
          ],
          "name": "stdout"
        }
      ]
    },
    {
      "cell_type": "code",
      "metadata": {
        "colab": {
          "base_uri": "https://localhost:8080/"
        },
        "id": "jSmEqZYIWIWN",
        "outputId": "1e987724-19dd-4a67-9167-03038fdd421b"
      },
      "source": [
        "#Generador de 1 solucion vecina 2-opt aleatoria (intercambiar 2 nodos)\r\n",
        "def genera_vecina_aleatorio(solucion):\r\n",
        "\r\n",
        "  #Se eligen dos nodos aleatoriamente\r\n",
        "  i,j = sorted(random.sample( range(1,len(solucion)) , 2))\r\n",
        "  \r\n",
        "  #Devuelve una nueva solución pero intercambiando los dos nodos elegidos al azar\r\n",
        "  return solucion[:i] + [solucion[j]] + solucion[i+1:j] + [solucion[i]] + solucion[j+1:]\r\n",
        "  \r\n",
        " \r\n",
        "genera_vecina_aleatorio(solucion)"
      ],
      "execution_count": null,
      "outputs": [
        {
          "output_type": "execute_result",
          "data": {
            "text/plain": [
              "[0,\n",
              " 32,\n",
              " 31,\n",
              " 5,\n",
              " 19,\n",
              " 3,\n",
              " 2,\n",
              " 12,\n",
              " 14,\n",
              " 15,\n",
              " 17,\n",
              " 26,\n",
              " 8,\n",
              " 13,\n",
              " 36,\n",
              " 30,\n",
              " 35,\n",
              " 1,\n",
              " 28,\n",
              " 9,\n",
              " 4,\n",
              " 29,\n",
              " 39,\n",
              " 25,\n",
              " 7,\n",
              " 11,\n",
              " 16,\n",
              " 37,\n",
              " 23,\n",
              " 41,\n",
              " 33,\n",
              " 20,\n",
              " 34,\n",
              " 38,\n",
              " 10,\n",
              " 27,\n",
              " 6,\n",
              " 18,\n",
              " 22,\n",
              " 21,\n",
              " 40,\n",
              " 24]"
            ]
          },
          "metadata": {
            "tags": []
          },
          "execution_count": 10
        }
      ]
    },
    {
      "cell_type": "code",
      "metadata": {
        "id": "7EolAO_YWO8k"
      },
      "source": [
        "#Funcion de probabilidad para aceptar peores soluciones\r\n",
        "def probabilidad(T,d):\r\n",
        "  if random.random() <  math.exp( -1*d / T)  :\r\n",
        "    return True\r\n",
        "  else:\r\n",
        "    return False\r\n",
        "\r\n",
        "#Funcion de descenso de temperatura\r\n",
        "def bajar_temperatura(T):\r\n",
        "  return T*0.99\r\n"
      ],
      "execution_count": null,
      "outputs": []
    },
    {
      "cell_type": "code",
      "metadata": {
        "colab": {
          "base_uri": "https://localhost:8080/"
        },
        "id": "njEsbWCKWaeF",
        "outputId": "8339c129-c011-49fb-beb9-91c44e5074fe"
      },
      "source": [
        "def recocido_simulado(problem, TEMPERATURA ):\r\n",
        "  #problem = datos del problema\r\n",
        "  #T = Temperatura\r\n",
        "  \r\n",
        "  solucion_referencia = crear_solucion(Nodos)\r\n",
        "  distancia_referencia = distancia_total(solucion_referencia, problem)\r\n",
        "  \r\n",
        "  mejor_solucion = []\r\n",
        "  mejor_distancia = 10e100\r\n",
        "  \r\n",
        "  \r\n",
        "  N=0\r\n",
        "  while TEMPERATURA > .0001:\r\n",
        "    N+=1\r\n",
        "    #Genera una solución vecina\r\n",
        "    vecina =genera_vecina_aleatorio(solucion_referencia)\r\n",
        "    \r\n",
        "    #Calcula su valor(distancia)\r\n",
        "    distancia_vecina = distancia_total(vecina, problem)\r\n",
        "      \r\n",
        "    #Si es la mejor solución de todas se guarda(siempre!!!)\r\n",
        "    if distancia_vecina < mejor_distancia:\r\n",
        "        mejor_solucion = vecina\r\n",
        "        mejor_distancia = distancia_vecina\r\n",
        "    \r\n",
        "    #Si la nueva vecina es mejor se cambia  \r\n",
        "    #Si es peor se cambia según una probabilidad que depende de T y delta(distancia_referencia - distancia_vecina)\r\n",
        "    if distancia_vecina < distancia_referencia or probabilidad(TEMPERATURA, abs(distancia_referencia - distancia_vecina) ) :\r\n",
        "      solucion_referencia = copy.deepcopy(vecina)\r\n",
        "      distancia_referencia = distancia_vecina\r\n",
        "\r\n",
        "    #Bajamos la temperatura\r\n",
        "    TEMPERATURA = bajar_temperatura(TEMPERATURA)\r\n",
        " \r\n",
        "  print(\"La mejor solución encontrada es \" , end=\"\")\r\n",
        "  print(mejor_solucion)\r\n",
        "  print(\"con una distancia total de \" , end=\"\")\r\n",
        "  print(mejor_distancia)\r\n",
        "  return mejor_solucion\r\n",
        "\r\n",
        "sol  = recocido_simulado(problem, 10000000)"
      ],
      "execution_count": null,
      "outputs": [
        {
          "output_type": "stream",
          "text": [
            "La mejor solución encontrada es [0, 32, 29, 9, 23, 21, 7, 31, 35, 36, 17, 37, 15, 16, 41, 40, 24, 39, 22, 38, 4, 6, 13, 12, 11, 18, 26, 2, 8, 10, 25, 5, 19, 14, 1, 20, 33, 34, 30, 28, 27, 3]\n",
            "con una distancia total de 2195\n"
          ],
          "name": "stdout"
        }
      ]
    }
  ]
}