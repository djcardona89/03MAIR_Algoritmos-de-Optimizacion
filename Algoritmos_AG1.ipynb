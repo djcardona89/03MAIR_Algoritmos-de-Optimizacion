{
  "nbformat": 4,
  "nbformat_minor": 0,
  "metadata": {
    "colab": {
      "name": "Algoritmos - AG1.ipynb",
      "provenance": [],
      "authorship_tag": "ABX9TyN/OOMufPUpN9FNDJIlGLhB",
      "include_colab_link": true
    },
    "kernelspec": {
      "name": "python3",
      "display_name": "Python 3"
    }
  },
  "cells": [
    {
      "cell_type": "markdown",
      "metadata": {
        "id": "view-in-github",
        "colab_type": "text"
      },
      "source": [
        "<a href=\"https://colab.research.google.com/github/djcardona89/03MAIR_Algoritmos-de-Optimizacion/blob/main/Algoritmos_AG1.ipynb\" target=\"_parent\"><img src=\"https://colab.research.google.com/assets/colab-badge.svg\" alt=\"Open In Colab\"/></a>"
      ]
    },
    {
      "cell_type": "markdown",
      "metadata": {
        "id": "-L5-lfdbjpS-"
      },
      "source": [
        "#Algoritmos - Actividad Guiada 1 \r\n",
        "Nombre: David Cardona <br>\r\n",
        "URL: https://colab.research.google.com/drive/1Ne8L5xdVKcmoRCzzN4T9RWREyaOMACWo?usp=sharing"
      ]
    },
    {
      "cell_type": "markdown",
      "metadata": {
        "id": "AMbVlYHXnMgh"
      },
      "source": [
        "##Torres de Hanoi con Divide y vencerás"
      ]
    },
    {
      "cell_type": "code",
      "metadata": {
        "colab": {
          "base_uri": "https://localhost:8080/"
        },
        "id": "1rMe25SLAaEl",
        "outputId": "acc25121-af15-4a9e-fdb1-202abdf642b2"
      },
      "source": [
        "def Torres_Hanoi(N, desde, hasta):\r\n",
        "  if N == 1:\r\n",
        "    print(\"Lleva la ficha \", desde ,\" hasta \", hasta)\r\n",
        "  else:\r\n",
        "    Torres_Hanoi(N-1, desde, 6-desde-hasta)\r\n",
        "    print(\"Lleva la ficha \", desde, \" hasta \", hasta)\r\n",
        "    Torres_Hanoi(N-1, 6 -desde-hasta, hasta)\r\n",
        "\r\n",
        "Torres_Hanoi(6,1,3)"
      ],
      "execution_count": 47,
      "outputs": [
        {
          "output_type": "stream",
          "text": [
            "Lleva la ficha  1  hasta  2\n",
            "Lleva la ficha  1  hasta  3\n",
            "Lleva la ficha  2  hasta  3\n",
            "Lleva la ficha  1  hasta  2\n",
            "Lleva la ficha  3  hasta  1\n",
            "Lleva la ficha  3  hasta  2\n",
            "Lleva la ficha  1  hasta  2\n",
            "Lleva la ficha  1  hasta  3\n",
            "Lleva la ficha  2  hasta  3\n",
            "Lleva la ficha  2  hasta  1\n",
            "Lleva la ficha  3  hasta  1\n",
            "Lleva la ficha  2  hasta  3\n",
            "Lleva la ficha  1  hasta  2\n",
            "Lleva la ficha  1  hasta  3\n",
            "Lleva la ficha  2  hasta  3\n",
            "Lleva la ficha  1  hasta  2\n",
            "Lleva la ficha  3  hasta  1\n",
            "Lleva la ficha  3  hasta  2\n",
            "Lleva la ficha  1  hasta  2\n",
            "Lleva la ficha  3  hasta  1\n",
            "Lleva la ficha  2  hasta  3\n",
            "Lleva la ficha  2  hasta  1\n",
            "Lleva la ficha  3  hasta  1\n",
            "Lleva la ficha  3  hasta  2\n",
            "Lleva la ficha  1  hasta  2\n",
            "Lleva la ficha  1  hasta  3\n",
            "Lleva la ficha  2  hasta  3\n",
            "Lleva la ficha  1  hasta  2\n",
            "Lleva la ficha  3  hasta  1\n",
            "Lleva la ficha  3  hasta  2\n",
            "Lleva la ficha  1  hasta  2\n",
            "Lleva la ficha  1  hasta  3\n",
            "Lleva la ficha  2  hasta  3\n",
            "Lleva la ficha  2  hasta  1\n",
            "Lleva la ficha  3  hasta  1\n",
            "Lleva la ficha  2  hasta  3\n",
            "Lleva la ficha  1  hasta  2\n",
            "Lleva la ficha  1  hasta  3\n",
            "Lleva la ficha  2  hasta  3\n",
            "Lleva la ficha  2  hasta  1\n",
            "Lleva la ficha  3  hasta  1\n",
            "Lleva la ficha  3  hasta  2\n",
            "Lleva la ficha  1  hasta  2\n",
            "Lleva la ficha  3  hasta  1\n",
            "Lleva la ficha  2  hasta  3\n",
            "Lleva la ficha  2  hasta  1\n",
            "Lleva la ficha  3  hasta  1\n",
            "Lleva la ficha  2  hasta  3\n",
            "Lleva la ficha  1  hasta  2\n",
            "Lleva la ficha  1  hasta  3\n",
            "Lleva la ficha  2  hasta  3\n",
            "Lleva la ficha  1  hasta  2\n",
            "Lleva la ficha  3  hasta  1\n",
            "Lleva la ficha  3  hasta  2\n",
            "Lleva la ficha  1  hasta  2\n",
            "Lleva la ficha  1  hasta  3\n",
            "Lleva la ficha  2  hasta  3\n",
            "Lleva la ficha  2  hasta  1\n",
            "Lleva la ficha  3  hasta  1\n",
            "Lleva la ficha  2  hasta  3\n",
            "Lleva la ficha  1  hasta  2\n",
            "Lleva la ficha  1  hasta  3\n",
            "Lleva la ficha  2  hasta  3\n"
          ],
          "name": "stdout"
        }
      ]
    },
    {
      "cell_type": "code",
      "metadata": {
        "colab": {
          "base_uri": "https://localhost:8080/"
        },
        "id": "4nMPlkGZoJb9",
        "outputId": "90cf2ee8-82fa-46a0-c2b5-1560ef2021cb"
      },
      "source": [
        "def Torres_Hanoi(N, desde, hasta,ficha):\r\n",
        "  c=1\r\n",
        "  if N == 1:\r\n",
        "    print(\"Lleva la ficha \", ficha, \" desde \", desde ,\" hasta \", hasta)\r\n",
        "  else:\r\n",
        "    Torres_Hanoi(N-1, desde, 6-desde-hasta, ficha)\r\n",
        "    print(\"Lleva la ficha \", ficha+c, \" desde \", desde, \" hasta \", hasta)\r\n",
        "    Torres_Hanoi(N-1, 6 -desde-hasta, hasta,ficha)\r\n",
        "  \r\n",
        "  \r\n",
        "Torres_Hanoi(3,1,3,1)"
      ],
      "execution_count": 46,
      "outputs": [
        {
          "output_type": "stream",
          "text": [
            "Lleva la ficha  1  desde  1  hasta  3\n",
            "Lleva la ficha  2  desde  1  hasta  2\n",
            "Lleva la ficha  1  desde  3  hasta  2\n",
            "Lleva la ficha  2  desde  1  hasta  3\n",
            "Lleva la ficha  1  desde  2  hasta  1\n",
            "Lleva la ficha  2  desde  2  hasta  3\n",
            "Lleva la ficha  1  desde  1  hasta  3\n"
          ],
          "name": "stdout"
        }
      ]
    },
    {
      "cell_type": "markdown",
      "metadata": {
        "id": "FpZX4AcbUumi"
      },
      "source": [
        "##Devolución de cambio por técnica voraz"
      ]
    },
    {
      "cell_type": "code",
      "metadata": {
        "colab": {
          "base_uri": "https://localhost:8080/"
        },
        "id": "pL9UFvbNWvc-",
        "outputId": "b81091ea-21fe-4684-801a-d0d50fe91ae8"
      },
      "source": [
        "def cambio_monedas(N,SM):\r\n",
        "  SOLUCION = [0]*len(SM)\r\n",
        "  ValorAcumulado = 0\r\n",
        "\r\n",
        "  for i,valor in enumerate(SM):\r\n",
        "    monedas = (N-ValorAcumulado)//valor\r\n",
        "    SOLUCION[i]=monedas\r\n",
        "    ValorAcumulado = ValorAcumulado +monedas*valor\r\n",
        "\r\n",
        "    if ValorAcumulado == N:\r\n",
        "      return SOLUCION\r\n",
        "\r\n",
        "cambio_monedas(67, [50,20,10,5,2])"
      ],
      "execution_count": 4,
      "outputs": [
        {
          "output_type": "execute_result",
          "data": {
            "text/plain": [
              "[1, 0, 1, 1, 1]"
            ]
          },
          "metadata": {
            "tags": []
          },
          "execution_count": 4
        }
      ]
    },
    {
      "cell_type": "markdown",
      "metadata": {
        "id": "PY1eywTPgr8S"
      },
      "source": [
        "##N-Reinas por técnica de vuelta atrás"
      ]
    },
    {
      "cell_type": "code",
      "metadata": {
        "id": "2SXcTXsslKt9"
      },
      "source": [
        "def es_prometedora(SOLUCION,etapa):\r\n",
        "  #print(SOLUCION)\r\n",
        "  #Si la solución tiene dos valores iguales no es valida => Dos reinas en la misma fila\r\n",
        "\r\n",
        "  for i in range(etapa+1):\r\n",
        "    #print(\"El valor \" + str(SOLUCION[i]) + \" está \" +  str(SOLUCION.count(SOLUCION[i])) + \" veces\")\r\n",
        "    if SOLUCION.count(SOLUCION[i]) > 1:       \r\n",
        "      return False\r\n",
        "\r\n",
        "    #Verifica las diagonales\r\n",
        "    for j in range(i+1, etapa +1):\r\n",
        "      #print(\"Comprobando diagonal de \" + str(i) + \" y \" + str(j))\r\n",
        "      if abs(i-j) == abs(SOLUCION[i]-SOLUCION[j]) : return False\r\n",
        "  return True\r\n",
        "\r\n",
        "def reinas(N, solucion=[],etapa=0):\r\n",
        "  if len(solucion)==0:\r\n",
        "    solucion= [0 for i in range(N)]\r\n",
        "\r\n",
        "  for i in range(1,N+1):\r\n",
        "    solucion[etapa]=1\r\n",
        "\r\n",
        "    if es_prometedora(solucion,etapa):\r\n",
        "      if etapa==N-1:\r\n",
        "        print(solucion)\r\n",
        "      else:\r\n",
        "        reinas(N,solucion,etapa+1)\r\n",
        "  else:\r\n",
        "    None  \r\n",
        "\r\n",
        "  solucion[etapa]=0\r\n",
        "\r\n",
        "reinas(4)\r\n"
      ],
      "execution_count": 11,
      "outputs": []
    }
  ]
}